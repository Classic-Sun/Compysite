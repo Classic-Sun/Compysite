{
 "cells": [
  {
   "cell_type": "code",
   "execution_count": 40,
   "metadata": {},
   "outputs": [],
   "source": [
    "from Compysite import Material, Lamina, Laminate\n",
    "import numpy as np\n",
    "import matplotlib.pyplot as plt\n",
    "# from conversion import create_tensor_3D\n",
    "\n",
    "from conversion import (\n",
    "    to_epsilon,\n",
    "    to_gamma,\n",
    "    tensor_to_vec,\n",
    "    T_z,\n",
    "    transformation_3D,\n",
    "    ConversionMatrices,\n",
    ")"
   ]
  },
  {
   "cell_type": "markdown",
   "metadata": {},
   "source": [
    "### Validation 1"
   ]
  },
  {
   "cell_type": "code",
   "execution_count": 67,
   "metadata": {},
   "outputs": [
    {
     "name": "stdout",
     "output_type": "stream",
     "text": [
      "E [143.9318      12.03631579  12.03631579]\n",
      "v [0.58919839 0.2624     0.2624    ]\n",
      "G [3.78691416 4.54567129 4.54567129]\n",
      "alpha [-1.49770933e-02  2.81195600e+01  2.81195600e+01]\n"
     ]
    }
   ],
   "source": [
    "E_f = np.array([233, 23.1, 23.1])\n",
    "v_f = np.array([0.40, 0.20, 0.20])\n",
    "G_f = np.array([8.27, 8.96, 8.96])\n",
    "alpha_f = np.array([-0.54, 10.10, 10.10])\n",
    "mat_f = Material(E_f, v_f, G_f, alpha_f)\n",
    "V_f = 0.61\n",
    "\n",
    "E_m = 4.62\n",
    "v_m = 0.36\n",
    "G_m = 0\n",
    "alpha_m = 41.4\n",
    "mat_m = Material(E_m, v_m, G_m, alpha_m)\n",
    "\n",
    "layer_1 = Lamina(mat_fiber=mat_f, mat_matrix=mat_m, Vol_fiber=V_f, array_geometry=2)\n",
    "\n",
    "E, v, G = layer_1.get_lamina_properties()\n",
    "a, b = layer_1.get_lamina_expansion_properties()\n",
    "\n",
    "print('E',E)\n",
    "print('v',v)\n",
    "print('G',G)\n",
    "print('alpha',a)"
   ]
  },
  {
   "cell_type": "markdown",
   "metadata": {},
   "source": [
    "### Validation 2"
   ]
  },
  {
   "cell_type": "code",
   "execution_count": 70,
   "metadata": {},
   "outputs": [
    {
     "name": "stdout",
     "output_type": "stream",
     "text": [
      "S\n",
      "[[ 0.05208333 -0.0125     -0.0125      0.          0.          0.        ]\n",
      " [-0.0125      0.64102564 -0.37820513  0.          0.          0.        ]\n",
      " [-0.0125     -0.37820513  0.64102564  0.          0.          0.        ]\n",
      " [ 0.          0.          0.          2.04081633  0.          0.        ]\n",
      " [ 0.          0.          0.          0.          1.2195122   0.        ]\n",
      " [ 0.          0.          0.          0.          0.          1.2195122 ]]\n",
      "\n",
      "C\n",
      "[[19.6485623   0.93450479  0.93450479  0.          0.          0.        ]\n",
      " [ 0.93450479  2.43745102  1.45631895  0.          0.          0.        ]\n",
      " [ 0.93450479  1.45631895  2.43745102  0.          0.          0.        ]\n",
      " [ 0.          0.          0.          0.49        0.          0.        ]\n",
      " [ 0.          0.          0.          0.          0.82        0.        ]\n",
      " [ 0.          0.          0.          0.          0.          0.82      ]]\n"
     ]
    }
   ],
   "source": [
    "E = np.array([19.2, 1.56, 1.56])\n",
    "v = np.array([0.59, 0.24, 0.24])\n",
    "G = np.array([0.49, 0.82, 0.82])\n",
    "\n",
    "lam = Laminate()\n",
    "mat = Material(E, v, G)\n",
    "layer_1 = Lamina(mat_composite=mat)\n",
    "\n",
    "print('S')\n",
    "print(layer_1.matrices.S)\n",
    "print()\n",
    "print('C')\n",
    "print(layer_1.matrices.C)"
   ]
  },
  {
   "cell_type": "markdown",
   "metadata": {},
   "source": [
    "### Validation 3"
   ]
  },
  {
   "cell_type": "code",
   "execution_count": 4,
   "metadata": {},
   "outputs": [
    {
     "name": "stdout",
     "output_type": "stream",
     "text": [
      "[ 0.00047755 -0.00029514  0.00433252  0.          0.         -0.000625  ]\n"
     ]
    }
   ],
   "source": [
    "E = np.array([163, 14.1, 14.1]) * 1e9\n",
    "v = np.array([0.45, 0.24, 0.24])\n",
    "G = np.array([3.6, 4.8, 4.8]) * 1e9\n",
    "alpha = np.array([-0.018, 24.3, 24.3, 0, 0, 0]) * 1e-6\n",
    "beta = np.array([150, 4870, 4870, 0, 0, 0]) * 1e-6\n",
    "\n",
    "sigma = create_tensor_3D(50, -50, -5, 0, 0, -3) * 1e6\n",
    "\n",
    "lam = Laminate()\n",
    "mat = Material(E, v, G)\n",
    "layer_1 = Lamina(mat_composite=mat)\n",
    "lam.add_lamina(layer_1)\n",
    "\n",
    "layer_1.apply_stress(sigma)\n",
    "e_thermal = alpha * 10\n",
    "e_moisture = beta * 0.6\n",
    "\n",
    "print((layer_1.local_state.strain + e_thermal + e_moisture))"
   ]
  },
  {
   "cell_type": "markdown",
   "metadata": {},
   "source": [
    "### Validation 4"
   ]
  },
  {
   "cell_type": "code",
   "execution_count": 5,
   "metadata": {},
   "outputs": [
    {
     "name": "stdout",
     "output_type": "stream",
     "text": [
      "[   9.47654588 -108.19637856  -62.49293028    0.            0.\n",
      "   -2.88      ]\n"
     ]
    }
   ],
   "source": [
    "E = np.array([163, 14.1, 14.1]) * 1e9\n",
    "v = np.array([0.45, 0.24, 0.24])\n",
    "G = np.array([3.6, 4.8, 4.8]) * 1e9\n",
    "alpha = np.array([-0.018, 24.3, 24.3, 0, 0, 0]) * 1e-6\n",
    "beta = np.array([150, 4870, 4870, 0, 0, 0]) * 1e-6\n",
    "\n",
    "lam = Laminate()\n",
    "mat = Material(E, v, G)\n",
    "layer_1 = Lamina(mat_composite=mat)\n",
    "lam.add_lamina(layer_1)\n",
    "\n",
    "epsilon = np.array([4.0e-4, -3.5e-3, 1.2e-3, 0, 0, -6e-4])\n",
    "e_thermal = alpha * -30\n",
    "e_moisture = beta * 0.6\n",
    "e_total = create_tensor_3D(*(epsilon - e_thermal - e_moisture))\n",
    "\n",
    "layer_1.apply_strain(e_total)\n",
    "print(layer_1.local_state.stress * 1e-6)"
   ]
  },
  {
   "cell_type": "markdown",
   "metadata": {},
   "source": [
    "### Validation 5"
   ]
  },
  {
   "cell_type": "code",
   "execution_count": 6,
   "metadata": {},
   "outputs": [
    {
     "name": "stdout",
     "output_type": "stream",
     "text": [
      "[ 53.62318161 -48.23674327  -2.88      ]\n",
      "[ 51.99071907 -50.3710594   -4.66761113   0.           0.\n",
      "  -2.88      ]\n"
     ]
    }
   ],
   "source": [
    "E = np.array([163, 14.1, 14.1]) * 1e9\n",
    "v = np.array([0.45, 0.24, 0.24])\n",
    "G = np.array([3.6, 4.8, 4.8]) * 1e9\n",
    "alpha = np.array([-0.018, 24.3, 24.3, 0, 0, 0]) * 1e-6\n",
    "beta = np.array([150, 4870, 4870, 0, 0, 0]) * 1e-6\n",
    "\n",
    "lam = Laminate()\n",
    "mat = Material(E, v, G)\n",
    "layer_1 = Lamina(mat_composite=mat)\n",
    "lam.add_lamina(layer_1)\n",
    "\n",
    "epsilon = create_tensor_3D(4.0e-4, -3.5e-3, 1.2e-3, 0, 0, -6e-4)\n",
    "\n",
    "layer_1.apply_strain(epsilon)\n",
    "\n",
    "print(layer_1.matrices.C_reduced.dot(np.array([4.0e-4, -3.5e-3, -6e-4])) * 1e-6)\n",
    "print(layer_1.local_state.stress * 1e-6)"
   ]
  },
  {
   "cell_type": "markdown",
   "metadata": {},
   "source": [
    "### Validation 6"
   ]
  },
  {
   "cell_type": "code",
   "execution_count": 72,
   "metadata": {},
   "outputs": [
    {
     "name": "stdout",
     "output_type": "stream",
     "text": [
      "--- 45 degree ---\n",
      "[[ 0.5  0.5  1. ]\n",
      " [ 0.5  0.5 -1. ]\n",
      " [-0.5  0.5  0. ]]\n",
      "[[ 0.0641 -0.0359 -0.02  ]\n",
      " [-0.0359  0.0641 -0.02  ]\n",
      " [-0.02   -0.02    0.0636]]\n",
      "[[37.007408   27.007408   20.13044529]\n",
      " [27.007408   37.007408   20.13044529]\n",
      " [20.13044529 20.13044529 28.38392785]]\n",
      "--- -30 degree ---\n",
      "[[ 0.75       0.25      -0.8660254]\n",
      " [ 0.25       0.75       0.8660254]\n",
      " [ 0.4330127 -0.4330127  0.5      ]]\n",
      "[[ 0.045575   -0.027375    0.04685197]\n",
      " [-0.027375    0.065575   -0.01221096]\n",
      " [ 0.04685197 -0.01221096  0.0977    ]]\n",
      "[[ 62.98383525  21.16142604 -27.55901479]\n",
      " [ 21.16142604  22.72294468  -7.30793923]\n",
      " [-27.55901479  -7.30793923  22.53794589]]\n"
     ]
    }
   ],
   "source": [
    "E = np.array([100, 20, 20])\n",
    "v = np.array([0.40, 0.18, 0.18])\n",
    "G = np.array([4, 5, 5])\n",
    "\n",
    "lam = Laminate()\n",
    "mat = Material(E, v, G)\n",
    "layer_1 = Lamina(mat_composite=mat)\n",
    "layer_2 = Lamina(mat_composite=mat)\n",
    "\n",
    "lam.add_lamina(layer_1, 45)\n",
    "lam.add_lamina(layer_2, -30)\n",
    "\n",
    "print('--- 45 degree ---')\n",
    "print(lam.get_lamina(1).matrices.T_2D)\n",
    "print(lam.get_lamina(1).matrices.S_bar_reduced)\n",
    "print(lam.get_lamina(1).matrices.Q_bar_reduced)\n",
    "print('--- -30 degree ---')\n",
    "print(lam.get_lamina(2).matrices.T_2D)\n",
    "print(lam.get_lamina(2).matrices.S_bar_reduced)\n",
    "print(lam.get_lamina(2).matrices.Q_bar_reduced)"
   ]
  },
  {
   "cell_type": "markdown",
   "metadata": {},
   "source": [
    "### For 2D Material Properties:"
   ]
  },
  {
   "cell_type": "markdown",
   "metadata": {},
   "source": [
    "$E_1=170 GPa, E_2=9 GPa, \\nu_{12}=0.27, G_{12}=4.4 GPa$"
   ]
  },
  {
   "cell_type": "code",
   "execution_count": 16,
   "metadata": {},
   "outputs": [],
   "source": [
    "E = np.array([170, 9, 1])\n",
    "v = np.array([0, 0.27, 0.27])\n",
    "G = np.array([1, 4.4, 4.4])"
   ]
  },
  {
   "cell_type": "markdown",
   "metadata": {},
   "source": [
    "### SEE VALIDATION 5 FOR HOW TO GET 2D STRESS STATE"
   ]
  },
  {
   "cell_type": "code",
   "execution_count": null,
   "metadata": {},
   "outputs": [],
   "source": []
  },
  {
   "cell_type": "code",
   "execution_count": null,
   "metadata": {},
   "outputs": [],
   "source": []
  },
  {
   "cell_type": "code",
   "execution_count": null,
   "metadata": {},
   "outputs": [],
   "source": []
  },
  {
   "cell_type": "code",
   "execution_count": null,
   "metadata": {},
   "outputs": [],
   "source": []
  },
  {
   "cell_type": "code",
   "execution_count": null,
   "metadata": {},
   "outputs": [],
   "source": []
  },
  {
   "cell_type": "code",
   "execution_count": null,
   "metadata": {},
   "outputs": [],
   "source": []
  },
  {
   "cell_type": "markdown",
   "metadata": {},
   "source": [
    "### EXAM 1\n",
    "#### MCE 440 - Composites\n",
    "#### March 29, 2022"
   ]
  },
  {
   "cell_type": "markdown",
   "metadata": {},
   "source": [
    "#### Question 1\n"
   ]
  },
  {
   "cell_type": "code",
   "execution_count": 62,
   "metadata": {},
   "outputs": [
    {
     "name": "stdout",
     "output_type": "stream",
     "text": [
      "[[ 0.06534722 -0.028125    0.01130644]\n",
      " [-0.028125    0.043125   -0.04979646]\n",
      " [ 0.01130644 -0.04979646  0.09416667]]\n",
      "\n"
     ]
    }
   ],
   "source": [
    "E = np.array([180, 20, 20])*1e9\n",
    "v = np.array([0, 0.3, 0.3])\n",
    "G = np.array([1, 5, 5])*1e9\n",
    "\n",
    "lam = Laminate()\n",
    "mat = Material(E, v, G)\n",
    "layer_1 = Lamina(mat_composite=mat)\n",
    "lam.add_lamina(layer_1, 60)\n",
    "\n",
    "sigma = create_tensor_3D(50, 10, -10)\n",
    "lam.apply_stress(sigma)\n",
    "\n",
    "print(lam.lamina[0].matrices.S_bar_reduced*1e9)"
   ]
  },
  {
   "cell_type": "code",
   "execution_count": 21,
   "metadata": {},
   "outputs": [
    {
     "name": "stdout",
     "output_type": "stream",
     "text": [
      "[[ 28.75        37.91666667  16.59882024]\n",
      " [ 37.91666667 109.55808081  53.38303057]\n",
      " [ 16.59882024  53.38303057  36.85606061]]\n"
     ]
    }
   ],
   "source": [
    "print(lam.lamina[0].matrices.Q_bar_reduced)"
   ]
  },
  {
   "cell_type": "code",
   "execution_count": 74,
   "metadata": {},
   "outputs": [
    {
     "data": {
      "text/plain": [
       "array([ 3.046, -0.954, -1.836])"
      ]
     },
     "execution_count": 74,
     "metadata": {},
     "output_type": "execute_result"
    }
   ],
   "source": [
    "a = lam.lamina[0].matrices.S_bar_reduced.dot(np.array([50, 10, -10]))\n",
    "a"
   ]
  },
  {
   "cell_type": "code",
   "execution_count": 39,
   "metadata": {},
   "outputs": [
    {
     "data": {
      "text/plain": [
       "array([ 2.99027778e-09, -9.62500000e-10, -5.33333333e-10,  0.00000000e+00,\n",
       "        0.00000000e+00,  8.17912881e-11])"
      ]
     },
     "execution_count": 39,
     "metadata": {},
     "output_type": "execute_result"
    }
   ],
   "source": [
    "lam.global_state[0].strain"
   ]
  },
  {
   "cell_type": "code",
   "execution_count": 53,
   "metadata": {},
   "outputs": [
    {
     "data": {
      "text/plain": [
       "array([ 20.        ,  40.        , -10.        ,   0.        ,\n",
       "         0.        , -17.32050808])"
      ]
     },
     "execution_count": 53,
     "metadata": {},
     "output_type": "execute_result"
    }
   ],
   "source": [
    "lam.lamina[0].local_state.stress"
   ]
  },
  {
   "cell_type": "code",
   "execution_count": null,
   "metadata": {},
   "outputs": [],
   "source": []
  }
 ],
 "metadata": {
  "kernelspec": {
   "display_name": "Python 3",
   "language": "python",
   "name": "python3"
  },
  "language_info": {
   "codemirror_mode": {
    "name": "ipython",
    "version": 3
   },
   "file_extension": ".py",
   "mimetype": "text/x-python",
   "name": "python",
   "nbconvert_exporter": "python",
   "pygments_lexer": "ipython3",
   "version": "3.7.4"
  }
 },
 "nbformat": 4,
 "nbformat_minor": 4
}
